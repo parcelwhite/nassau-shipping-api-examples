{
  "nbformat": 4,
  "nbformat_minor": 0,
  "metadata": {
    "colab": {
      "name": "Shipping-Examples",
      "provenance": [],
      "toc_visible": true,
      "authorship_tag": "ABX9TyM+Myg2DTASNBpAg96qrVsG"
    },
    "kernelspec": {
      "name": "python3",
      "display_name": "Python 3"
    },
    "language_info": {
      "name": "python"
    }
  },
  "cells": [
    {
      "cell_type": "markdown",
      "metadata": {
        "id": "JDJ3EiGURkpe"
      },
      "source": [
        "Shipping API 示例"
      ]
    },
    {
      "cell_type": "code",
      "metadata": {
        "colab": {
          "base_uri": "https://localhost:8080/"
        },
        "id": "RDylA9D7RiFV",
        "outputId": "871b51b7-9c75-42b7-ca42-239a106ad6ff"
      },
      "source": [
        "import json\n",
        "import requests\n",
        "from pprint import pprint\n",
        "\n",
        "# Token 使用方法\n",
        "access_token = 'secret'\n",
        "headers = {\"Authorization\": \"Bearer {}\".format(access_token), 'Content-Type': 'application/json', 'Accept': 'application/json'}\n",
        "\n",
        "resp = requests.get('https://sandbox.parcelwhite.com/oauth/token/info', headers=headers)\n",
        "pprint(resp.json())"
      ],
      "execution_count": 12,
      "outputs": [
        {
          "output_type": "stream",
          "text": [
            "{'application': {'uid': '37fbd2517dd1e88ab44f614d42cffbb67e00e396110d83a7f37611777aca2c3e'},\n",
            " 'created_at': 1591452492,\n",
            " 'expires_in': None,\n",
            " 'resource_owner_id': 24,\n",
            " 'scope': []}\n"
          ],
          "name": "stdout"
        }
      ]
    },
    {
      "cell_type": "code",
      "metadata": {
        "colab": {
          "base_uri": "https://localhost:8080/"
        },
        "id": "8G_6tNpaTbAN",
        "outputId": "35cb32e5-a016-4a98-a4b4-9780b1602db8"
      },
      "source": [
        "# 创建运单\n",
        "\n",
        "payload = {\n",
        "  \"incoterm\":\"DDP\",\n",
        "  \"freight_service_code\":\"TESTING\",\n",
        "  \"transportation_mode\":\"air\",\n",
        "  \"ship_to\":{\n",
        "    \"name\":\"Consignee\",\n",
        "    \"street1\":\"12259 Rocket Rd\",\n",
        "    \"city\":\"Hawthorne\",\n",
        "    \"state\":\"CA\",\n",
        "    \"postal_code\":\"90250\",\n",
        "    \"country_code\":\"US\",\n",
        "    \"phone\": \"123-456-7890\"\n",
        "  },\n",
        "  \"ship_from\":{\n",
        "    \"name\":\"Shipper\",\n",
        "    \"street1\":\"street1\",\n",
        "    \"city\":\"Shenzhen\",\n",
        "    \"state\":\"Guangdong\",\n",
        "    \"postal_code\":\"518000\",\n",
        "    \"country_code\":\"CN\",\n",
        "    \"phone\":\"0755 12345678\"\n",
        "  },\n",
        "  \"parcels\":[\n",
        "    {\n",
        "      \"line_items\":[\n",
        "        {\n",
        "          \"sku\":\"PHCS01\",\n",
        "          \"name\":\"phone case\",\n",
        "          \"name_of_origin\":\"\\u624b\\u673a\\u58f3\",\n",
        "          \"material\":\"plastic\",\n",
        "          \"unit_price\":3.5,\n",
        "          \"quantity\":10,\n",
        "          \"taric_code\":\"6601999000\"\n",
        "        }\n",
        "      ]\n",
        "    }\n",
        "  ]\n",
        "}\n",
        "\n",
        "url = 'https://sandbox.parcelwhite.com/api/v1/shipments'\n",
        "resp = requests.post(url, data=json.dumps(payload), headers=headers)\n",
        "pprint(resp.json())"
      ],
      "execution_count": 13,
      "outputs": [
        {
          "output_type": "stream",
          "text": [
            "{'cargo_ready_at': None,\n",
            " 'chargeable_weight': None,\n",
            " 'client_ref': None,\n",
            " 'cod_amount': None,\n",
            " 'cod_currency': None,\n",
            " 'cod_method': None,\n",
            " 'contains_hazmat': False,\n",
            " 'contains_li_ion': False,\n",
            " 'contains_liquid': False,\n",
            " 'contains_magnets': False,\n",
            " 'contains_powder': False,\n",
            " 'created_at': '2021-07-02T08:28:53.443Z',\n",
            " 'declared_value': 35.0,\n",
            " 'delivery_confirmation': 'no_signature',\n",
            " 'delivery_option': 'courier',\n",
            " 'dimensional_weight': None,\n",
            " 'fees': [],\n",
            " 'freight_service_code': 'TESTING',\n",
            " 'id': 1600084401480,\n",
            " 'incoterm': 'DDP',\n",
            " 'memo': None,\n",
            " 'non_delivery_option': None,\n",
            " 'parcels': [{'chargeable_weight': None,\n",
            "              'client_ref': None,\n",
            "              'created_at': '2021-07-02T08:28:53.448Z',\n",
            "              'dimensional_weight': None,\n",
            "              'est_weight': None,\n",
            "              'height': None,\n",
            "              'id': 3253157,\n",
            "              'label_url': 'https://sandbox.parcelwhite.com/api/v1/parcels/KF2GXTU0U001/label.pdf',\n",
            "              'length': None,\n",
            "              'line_items': [{'brand': None,\n",
            "                              'catalog': None,\n",
            "                              'country_of_origin': None,\n",
            "                              'created_at': '2021-07-02T08:28:53.452Z',\n",
            "                              'ecommerce_name': None,\n",
            "                              'ecommerce_ref': None,\n",
            "                              'ecommerce_url': None,\n",
            "                              'id': 1768560,\n",
            "                              'material': 'plastic',\n",
            "                              'name': 'phone case',\n",
            "                              'name_of_origin': '手机壳',\n",
            "                              'quantity': 10,\n",
            "                              'sku': 'PHCS01',\n",
            "                              'taric_code': '6601999000',\n",
            "                              'unit_price': 3.5,\n",
            "                              'updated_at': '2021-07-02T08:28:53.452Z'}],\n",
            "              'memo': None,\n",
            "              'reference': 'KF2GXTU0U001',\n",
            "              'status': 'pending',\n",
            "              'tracker': {'courier': 'TESTING',\n",
            "                          'created_at': '2021-07-02T08:28:53.454Z',\n",
            "                          'id': 1583197,\n",
            "                          'public_url': 'https://sandbox.parcelwhite.com/trackers/1583197-KF2GXTU0U001',\n",
            "                          'status': 'pending',\n",
            "                          'tracking_code': 'KF2GXTU0U001',\n",
            "                          'updated_at': '2021-07-02T08:28:53.454Z',\n",
            "                          'url': 'https://sandbox.parcelwhite.com/api/v1/trackers/1583197-KF2GXTU0U001'},\n",
            "              'updated_at': '2021-07-02T08:28:53.458Z',\n",
            "              'url': 'https://sandbox.parcelwhite.com/api/v1/parcels/KF2GXTU0U001',\n",
            "              'weight': None,\n",
            "              'width': None}],\n",
            " 'reference': 'KF2GXTU0',\n",
            " 'refunds': [],\n",
            " 'saturday_delivery': False,\n",
            " 'ship_from': {'city': 'Shenzhen',\n",
            "               'company': None,\n",
            "               'country_code': 'CN',\n",
            "               'created_at': '2021-07-02T08:28:53.434Z',\n",
            "               'email': None,\n",
            "               'house_number': None,\n",
            "               'id': 2841949,\n",
            "               'name': 'Shipper',\n",
            "               'phone': '0755 12345678',\n",
            "               'postal_code': '518000',\n",
            "               'state': 'Guangdong',\n",
            "               'street1': 'street1',\n",
            "               'street2': None,\n",
            "               'street3': None,\n",
            "               'tax_id': None,\n",
            "               'updated_at': '2021-07-02T08:28:53.434Z'},\n",
            " 'ship_to': {'city': 'Hawthorne',\n",
            "             'company': None,\n",
            "             'country_code': 'US',\n",
            "             'created_at': '2021-07-02T08:28:53.423Z',\n",
            "             'email': None,\n",
            "             'house_number': None,\n",
            "             'id': 2841948,\n",
            "             'name': 'Consignee',\n",
            "             'phone': '123-456-7890',\n",
            "             'postal_code': '90250',\n",
            "             'state': 'CA',\n",
            "             'street1': '12259 Rocket Rd',\n",
            "             'street2': None,\n",
            "             'street3': None,\n",
            "             'tax_id': None,\n",
            "             'updated_at': '2021-07-02T08:28:53.423Z'},\n",
            " 'shipping_fee': None,\n",
            " 'status': 'pending',\n",
            " 'tax_lines': [],\n",
            " 'transportation_mode': 'air',\n",
            " 'updated_at': '2021-07-02T08:28:53.467Z',\n",
            " 'url': 'https://sandbox.parcelwhite.com/api/v1/shipments/1600084401480',\n",
            " 'vat_number': None,\n",
            " 'webhook_url': None,\n",
            " 'weight': None}\n"
          ],
          "name": "stdout"
        }
      ]
    },
    {
      "cell_type": "code",
      "metadata": {
        "colab": {
          "base_uri": "https://localhost:8080/"
        },
        "id": "VJ4r2DygVduW",
        "outputId": "947108b5-b164-4e3a-8000-1f4d4da01aae"
      },
      "source": [
        "# 抓取跟踪信息\n",
        "\n",
        "url = 'https://sandbox.parcelwhite.com/api/v1/trackers/1583197-KF2GXTU0U001'\n",
        "resp = requests.get(url, headers=headers)\n",
        "pprint(resp.json())"
      ],
      "execution_count": 14,
      "outputs": [
        {
          "output_type": "stream",
          "text": [
            "{'courier': 'TESTING',\n",
            " 'created_at': '2021-07-02T08:28:53.454Z',\n",
            " 'events': [{'country_code': None,\n",
            "             'created_at': '2021-07-02T08:28:53.494Z',\n",
            "             'id': 14738392,\n",
            "             'is_delivered': False,\n",
            "             'location': None,\n",
            "             'occured_at': '2021-07-02T08:28:53.488Z',\n",
            "             'status': 'pending',\n",
            "             'text': 'The parcel has been processed in the origin facility',\n",
            "             'updated_at': '2021-07-02T08:28:53.494Z'},\n",
            "            {'country_code': 'CN',\n",
            "             'created_at': '2021-07-02T08:28:53.463Z',\n",
            "             'id': 14738391,\n",
            "             'is_delivered': False,\n",
            "             'location': None,\n",
            "             'occured_at': '2021-07-02T08:28:53.443Z',\n",
            "             'status': 'pending',\n",
            "             'text': 'The shipment has been created',\n",
            "             'updated_at': '2021-07-02T08:28:53.463Z'}],\n",
            " 'id': 1583197,\n",
            " 'postage_label': {'courier_name': 'USPS',\n",
            "                   'id': 1112371,\n",
            "                   'tracking_code': '92612901307147001625214534704735'},\n",
            " 'public_url': 'https://sandbox.parcelwhite.com/trackers/KF2GXTU0U001',\n",
            " 'ship_from': {'city': 'Shenzhen',\n",
            "               'country_code': 'CN',\n",
            "               'postal_code': '518000',\n",
            "               'state': 'Guangdong'},\n",
            " 'ship_to': {'city': 'Hawthorne',\n",
            "             'country_code': 'US',\n",
            "             'postal_code': '90250',\n",
            "             'state': 'CA'},\n",
            " 'signed_by': None,\n",
            " 'status': 'pending',\n",
            " 'tracking_code': 'KF2GXTU0U001',\n",
            " 'updated_at': '2021-07-02T08:29:02.765Z',\n",
            " 'url': 'https://sandbox.parcelwhite.com/api/v1/trackers/1583197-KF2GXTU0U001'}\n"
          ],
          "name": "stdout"
        }
      ]
    }
  ]
}